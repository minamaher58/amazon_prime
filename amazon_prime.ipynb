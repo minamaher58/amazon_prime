{
 "cells": [
  {
   "cell_type": "markdown",
   "id": "fc1e8eea-3957-4533-82e7-5d846168d5a9",
   "metadata": {},
   "source": [
    "## Importing Libraries"
   ]
  },
  {
   "cell_type": "code",
   "execution_count": 2,
   "id": "cd3e2d3c-45ad-4938-abfa-4d0b658997a6",
   "metadata": {},
   "outputs": [],
   "source": [
    "import pandas as pd"
   ]
  },
  {
   "cell_type": "markdown",
   "id": "948d15f0-d924-4fe9-aff0-2189f4557525",
   "metadata": {},
   "source": [
    "## EDA"
   ]
  },
  {
   "cell_type": "code",
   "execution_count": 3,
   "id": "2df44483-c291-4d4e-a884-6bec50cf4a14",
   "metadata": {},
   "outputs": [
    {
     "data": {
      "text/html": [
       "<div>\n",
       "<style scoped>\n",
       "    .dataframe tbody tr th:only-of-type {\n",
       "        vertical-align: middle;\n",
       "    }\n",
       "\n",
       "    .dataframe tbody tr th {\n",
       "        vertical-align: top;\n",
       "    }\n",
       "\n",
       "    .dataframe thead th {\n",
       "        text-align: right;\n",
       "    }\n",
       "</style>\n",
       "<table border=\"1\" class=\"dataframe\">\n",
       "  <thead>\n",
       "    <tr style=\"text-align: right;\">\n",
       "      <th></th>\n",
       "      <th>show_id</th>\n",
       "      <th>type</th>\n",
       "      <th>title</th>\n",
       "      <th>director</th>\n",
       "      <th>cast</th>\n",
       "      <th>country</th>\n",
       "      <th>date_added</th>\n",
       "      <th>release_year</th>\n",
       "      <th>rating</th>\n",
       "      <th>duration</th>\n",
       "      <th>listed_in</th>\n",
       "      <th>description</th>\n",
       "    </tr>\n",
       "  </thead>\n",
       "  <tbody>\n",
       "    <tr>\n",
       "      <th>0</th>\n",
       "      <td>s1</td>\n",
       "      <td>Movie</td>\n",
       "      <td>The Grand Seduction</td>\n",
       "      <td>Don McKellar</td>\n",
       "      <td>Brendan Gleeson, Taylor Kitsch, Gordon Pinsent</td>\n",
       "      <td>Canada</td>\n",
       "      <td>March 30, 2021</td>\n",
       "      <td>2014</td>\n",
       "      <td>NaN</td>\n",
       "      <td>113 min</td>\n",
       "      <td>Comedy, Drama</td>\n",
       "      <td>A small fishing village must procure a local d...</td>\n",
       "    </tr>\n",
       "    <tr>\n",
       "      <th>1</th>\n",
       "      <td>s2</td>\n",
       "      <td>Movie</td>\n",
       "      <td>Take Care Good Night</td>\n",
       "      <td>Girish Joshi</td>\n",
       "      <td>Mahesh Manjrekar, Abhay Mahajan, Sachin Khedekar</td>\n",
       "      <td>India</td>\n",
       "      <td>March 30, 2021</td>\n",
       "      <td>2018</td>\n",
       "      <td>13+</td>\n",
       "      <td>110 min</td>\n",
       "      <td>Drama, International</td>\n",
       "      <td>A Metro Family decides to fight a Cyber Crimin...</td>\n",
       "    </tr>\n",
       "    <tr>\n",
       "      <th>2</th>\n",
       "      <td>s3</td>\n",
       "      <td>Movie</td>\n",
       "      <td>Secrets of Deception</td>\n",
       "      <td>Josh Webber</td>\n",
       "      <td>Tom Sizemore, Lorenzo Lamas, Robert LaSardo, R...</td>\n",
       "      <td>United States</td>\n",
       "      <td>March 30, 2021</td>\n",
       "      <td>2017</td>\n",
       "      <td>NaN</td>\n",
       "      <td>74 min</td>\n",
       "      <td>Action, Drama, Suspense</td>\n",
       "      <td>After a man discovers his wife is cheating on ...</td>\n",
       "    </tr>\n",
       "    <tr>\n",
       "      <th>3</th>\n",
       "      <td>s4</td>\n",
       "      <td>Movie</td>\n",
       "      <td>Pink: Staying True</td>\n",
       "      <td>Sonia Anderson</td>\n",
       "      <td>Interviews with: Pink, Adele, Beyoncé, Britney...</td>\n",
       "      <td>United States</td>\n",
       "      <td>March 30, 2021</td>\n",
       "      <td>2014</td>\n",
       "      <td>NaN</td>\n",
       "      <td>69 min</td>\n",
       "      <td>Documentary</td>\n",
       "      <td>Pink breaks the mold once again, bringing her ...</td>\n",
       "    </tr>\n",
       "    <tr>\n",
       "      <th>4</th>\n",
       "      <td>s5</td>\n",
       "      <td>Movie</td>\n",
       "      <td>Monster Maker</td>\n",
       "      <td>Giles Foster</td>\n",
       "      <td>Harry Dean Stanton, Kieran O'Brien, George Cos...</td>\n",
       "      <td>United Kingdom</td>\n",
       "      <td>March 30, 2021</td>\n",
       "      <td>1989</td>\n",
       "      <td>NaN</td>\n",
       "      <td>45 min</td>\n",
       "      <td>Drama, Fantasy</td>\n",
       "      <td>Teenage Matt Banting wants to work with a famo...</td>\n",
       "    </tr>\n",
       "  </tbody>\n",
       "</table>\n",
       "</div>"
      ],
      "text/plain": [
       "  show_id   type                 title        director  \\\n",
       "0      s1  Movie   The Grand Seduction    Don McKellar   \n",
       "1      s2  Movie  Take Care Good Night    Girish Joshi   \n",
       "2      s3  Movie  Secrets of Deception     Josh Webber   \n",
       "3      s4  Movie    Pink: Staying True  Sonia Anderson   \n",
       "4      s5  Movie         Monster Maker    Giles Foster   \n",
       "\n",
       "                                                cast         country  \\\n",
       "0     Brendan Gleeson, Taylor Kitsch, Gordon Pinsent          Canada   \n",
       "1   Mahesh Manjrekar, Abhay Mahajan, Sachin Khedekar           India   \n",
       "2  Tom Sizemore, Lorenzo Lamas, Robert LaSardo, R...   United States   \n",
       "3  Interviews with: Pink, Adele, Beyoncé, Britney...   United States   \n",
       "4  Harry Dean Stanton, Kieran O'Brien, George Cos...  United Kingdom   \n",
       "\n",
       "       date_added  release_year rating duration                listed_in  \\\n",
       "0  March 30, 2021          2014    NaN  113 min            Comedy, Drama   \n",
       "1  March 30, 2021          2018    13+  110 min     Drama, International   \n",
       "2  March 30, 2021          2017    NaN   74 min  Action, Drama, Suspense   \n",
       "3  March 30, 2021          2014    NaN   69 min              Documentary   \n",
       "4  March 30, 2021          1989    NaN   45 min           Drama, Fantasy   \n",
       "\n",
       "                                         description  \n",
       "0  A small fishing village must procure a local d...  \n",
       "1  A Metro Family decides to fight a Cyber Crimin...  \n",
       "2  After a man discovers his wife is cheating on ...  \n",
       "3  Pink breaks the mold once again, bringing her ...  \n",
       "4  Teenage Matt Banting wants to work with a famo...  "
      ]
     },
     "execution_count": 3,
     "metadata": {},
     "output_type": "execute_result"
    }
   ],
   "source": [
    "df = pd.read_csv('amazon_prime_titles.csv')\n",
    "\n",
    "df.head()"
   ]
  },
  {
   "cell_type": "code",
   "execution_count": 4,
   "id": "9d0eec76-8726-4b71-82cb-53610d7df69c",
   "metadata": {},
   "outputs": [
    {
     "data": {
      "text/plain": [
       "(9668, 12)"
      ]
     },
     "execution_count": 4,
     "metadata": {},
     "output_type": "execute_result"
    }
   ],
   "source": [
    "df.shape"
   ]
  },
  {
   "cell_type": "code",
   "execution_count": 7,
   "id": "c4ab9566-d06c-4d0e-841a-cc818a77266d",
   "metadata": {},
   "outputs": [
    {
     "data": {
      "text/plain": [
       "show_id         object\n",
       "type            object\n",
       "title           object\n",
       "director        object\n",
       "cast            object\n",
       "country         object\n",
       "date_added      object\n",
       "release_year     int64\n",
       "rating          object\n",
       "duration        object\n",
       "listed_in       object\n",
       "description     object\n",
       "dtype: object"
      ]
     },
     "execution_count": 7,
     "metadata": {},
     "output_type": "execute_result"
    }
   ],
   "source": [
    "df.dtypes"
   ]
  },
  {
   "cell_type": "code",
   "execution_count": 21,
   "id": "2617f86a-d8ad-4687-ad23-8edacb4b1c02",
   "metadata": {},
   "outputs": [
    {
     "data": {
      "text/plain": [
       "show_id            0\n",
       "type               0\n",
       "title              0\n",
       "director        2083\n",
       "cast            1233\n",
       "country         8996\n",
       "date_added      9513\n",
       "release_year       0\n",
       "rating           337\n",
       "duration           0\n",
       "listed_in          0\n",
       "description        0\n",
       "dtype: int64"
      ]
     },
     "execution_count": 21,
     "metadata": {},
     "output_type": "execute_result"
    }
   ],
   "source": [
    "#checking how many null values are in each column\n",
    "df.isna().sum()"
   ]
  },
  {
   "cell_type": "markdown",
   "id": "01853b94-173f-4d16-8168-43c61bb90cbb",
   "metadata": {},
   "source": [
    "#### We want to check the Percentage of Missing Values: We will Calculate the percentage of missing values in each column (missing_values_count / total_rows * 100).\n",
    "#### If a column has a very high percentage of missing values (e.g., more than 50-60%), dropping it might be a reasonable choice."
   ]
  },
  {
   "cell_type": "code",
   "execution_count": 26,
   "id": "136a8847-2795-4afe-914f-99b061800c98",
   "metadata": {},
   "outputs": [],
   "source": [
    "cols_with_missing = [i for i, v in df.isna().sum().items() if v > 0]"
   ]
  },
  {
   "cell_type": "code",
   "execution_count": 28,
   "id": "768f96c0-3bc8-495d-a6e9-79bde8c56946",
   "metadata": {},
   "outputs": [
    {
     "data": {
      "text/plain": [
       "['director', 'cast', 'country', 'date_added', 'rating']"
      ]
     },
     "execution_count": 28,
     "metadata": {},
     "output_type": "execute_result"
    }
   ],
   "source": [
    "# columns with missing values\n",
    "cols_with_missing"
   ]
  },
  {
   "cell_type": "code",
   "execution_count": 31,
   "id": "b735f47c-5499-4290-9bf1-87cf014f1241",
   "metadata": {},
   "outputs": [
    {
     "data": {
      "text/plain": [
       "{'director': 21.54530409598676,\n",
       " 'cast': 12.753413322300371,\n",
       " 'country': 93.04923458833264,\n",
       " 'date_added': 98.39677285891601,\n",
       " 'rating': 3.485726106743897}"
      ]
     },
     "execution_count": 31,
     "metadata": {},
     "output_type": "execute_result"
    }
   ],
   "source": [
    "missing_val_percentages = {}\n",
    "\n",
    "for col in cols_with_missing:\n",
    "    missing_val_percentages[col] = df[col].isna().sum() / len(df) * 100\n",
    "\n",
    "missing_val_percentages"
   ]
  },
  {
   "cell_type": "markdown",
   "id": "093a63d4-525a-4240-b6f3-4ae29eab82b5",
   "metadata": {},
   "source": [
    "#### Now we should drop the country and date_added columns"
   ]
  },
  {
   "cell_type": "code",
   "execution_count": null,
   "id": "bb3d8bff-550c-4aa7-b913-c414fcb7a409",
   "metadata": {},
   "outputs": [],
   "source": []
  }
 ],
 "metadata": {
  "kernelspec": {
   "display_name": "amazon_prime",
   "language": "python",
   "name": "amazon_prime"
  },
  "language_info": {
   "codemirror_mode": {
    "name": "ipython",
    "version": 3
   },
   "file_extension": ".py",
   "mimetype": "text/x-python",
   "name": "python",
   "nbconvert_exporter": "python",
   "pygments_lexer": "ipython3",
   "version": "3.11.5"
  }
 },
 "nbformat": 4,
 "nbformat_minor": 5
}
