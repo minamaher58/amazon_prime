{
 "cells": [
  {
   "cell_type": "code",
   "execution_count": null,
   "id": "cd3e2d3c-45ad-4938-abfa-4d0b658997a6",
   "metadata": {},
   "outputs": [],
   "source": []
  }
 ],
 "metadata": {
  "kernelspec": {
   "display_name": "amazon_prime",
   "language": "python",
   "name": "amazon_prime"
  },
  "language_info": {
   "codemirror_mode": {
    "name": "ipython",
    "version": 3
   },
   "file_extension": ".py",
   "mimetype": "text/x-python",
   "name": "python",
   "nbconvert_exporter": "python",
   "pygments_lexer": "ipython3",
   "version": "3.11.5"
  }
 },
 "nbformat": 4,
 "nbformat_minor": 5
}
